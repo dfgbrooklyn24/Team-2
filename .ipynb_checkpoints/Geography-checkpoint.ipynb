{
 "cells": [
  {
   "cell_type": "code",
   "execution_count": 2,
   "id": "ff24911f-0aae-421a-af59-f87d9bfa26da",
   "metadata": {
    "tags": []
   },
   "outputs": [],
   "source": [
    "import pandas as pd\n",
    "\n",
    "data = pd.read_csv('shared_data_read_only/Geography-Mapping/ZIP_TRACT_122023.csv')"
   ]
  },
  {
   "cell_type": "code",
   "execution_count": 5,
   "id": "bf3e9eb9-1438-4e71-bc67-f58e4ed7deea",
   "metadata": {
    "tags": []
   },
   "outputs": [
    {
     "data": {
      "text/plain": [
       "<bound method NDFrame.head of           ZIP        TRACT USPS_ZIP_PREF_CITY USPS_ZIP_PREF_STATE  RES_RATIO  \\\n",
       "0         501  36103158607         HOLTSVILLE                  NY   0.000000   \n",
       "1         601  72001956800           ADJUNTAS                  PR   0.014530   \n",
       "2         601  72113071700           ADJUNTAS                  PR   0.158291   \n",
       "3         601  72001956600           ADJUNTAS                  PR   0.180513   \n",
       "4         601  72001956700           ADJUNTAS                  PR   0.646667   \n",
       "...       ...          ...                ...                 ...        ...   \n",
       "188841  99925   2198000200            KLAWOCK                  AK   1.000000   \n",
       "188842  99926   2198940100         METLAKATLA                  AK   1.000000   \n",
       "188843  99927   2198000100        POINT BAKER                  AK   0.000000   \n",
       "188844  99928   2130000101          WARD COVE                  AK   0.000000   \n",
       "188845  99929   2275000300           WRANGELL                  AK   1.000000   \n",
       "\n",
       "        BUS_RATIO  OTH_RATIO  TOT_RATIO  \n",
       "0        1.000000   0.000000   1.000000  \n",
       "1        0.012469   0.042683   0.015121  \n",
       "2        0.199501   0.128049   0.160094  \n",
       "3        0.351621   0.378049   0.196259  \n",
       "4        0.436409   0.451220   0.628527  \n",
       "...           ...        ...        ...  \n",
       "188841   0.000000   1.000000   1.000000  \n",
       "188842   0.000000   1.000000   1.000000  \n",
       "188843   0.000000   1.000000   1.000000  \n",
       "188844   0.000000   1.000000   1.000000  \n",
       "188845   1.000000   1.000000   1.000000  \n",
       "\n",
       "[188846 rows x 8 columns]>"
      ]
     },
     "execution_count": 5,
     "metadata": {},
     "output_type": "execute_result"
    }
   ],
   "source": [
    "data.head"
   ]
  },
  {
   "cell_type": "code",
   "execution_count": 6,
   "id": "8fd1d8fd-96f5-40a3-8204-2b4a9563ed98",
   "metadata": {
    "tags": []
   },
   "outputs": [
    {
     "data": {
      "text/plain": [
       "Index(['ZIP', 'TRACT', 'USPS_ZIP_PREF_CITY', 'USPS_ZIP_PREF_STATE',\n",
       "       'RES_RATIO', 'BUS_RATIO', 'OTH_RATIO', 'TOT_RATIO'],\n",
       "      dtype='object')"
      ]
     },
     "execution_count": 6,
     "metadata": {},
     "output_type": "execute_result"
    }
   ],
   "source": [
    "data.columns"
   ]
  },
  {
   "cell_type": "code",
   "execution_count": 7,
   "id": "9692a415-24c5-460a-b5e1-6e324c562275",
   "metadata": {
    "tags": []
   },
   "outputs": [],
   "source": [
    "Filter_PA = data[data['USPS_ZIP_PREF_STATE'] == 'PA']"
   ]
  },
  {
   "cell_type": "code",
   "execution_count": 8,
   "id": "41d367e4-92e2-4bae-91c5-cc2d0f5fd193",
   "metadata": {
    "tags": []
   },
   "outputs": [
    {
     "data": {
      "text/html": [
       "<div>\n",
       "<style scoped>\n",
       "    .dataframe tbody tr th:only-of-type {\n",
       "        vertical-align: middle;\n",
       "    }\n",
       "\n",
       "    .dataframe tbody tr th {\n",
       "        vertical-align: top;\n",
       "    }\n",
       "\n",
       "    .dataframe thead th {\n",
       "        text-align: right;\n",
       "    }\n",
       "</style>\n",
       "<table border=\"1\" class=\"dataframe\">\n",
       "  <thead>\n",
       "    <tr style=\"text-align: right;\">\n",
       "      <th></th>\n",
       "      <th>ZIP</th>\n",
       "      <th>TRACT</th>\n",
       "      <th>USPS_ZIP_PREF_CITY</th>\n",
       "      <th>USPS_ZIP_PREF_STATE</th>\n",
       "      <th>RES_RATIO</th>\n",
       "      <th>BUS_RATIO</th>\n",
       "      <th>OTH_RATIO</th>\n",
       "      <th>TOT_RATIO</th>\n",
       "    </tr>\n",
       "  </thead>\n",
       "  <tbody>\n",
       "    <tr>\n",
       "      <th>24994</th>\n",
       "      <td>15001</td>\n",
       "      <td>42007605002</td>\n",
       "      <td>ALIQUIPPA</td>\n",
       "      <td>PA</td>\n",
       "      <td>0.002607</td>\n",
       "      <td>0.001078</td>\n",
       "      <td>0.000000</td>\n",
       "      <td>0.002480</td>\n",
       "    </tr>\n",
       "    <tr>\n",
       "      <th>24995</th>\n",
       "      <td>15001</td>\n",
       "      <td>42007604901</td>\n",
       "      <td>ALIQUIPPA</td>\n",
       "      <td>PA</td>\n",
       "      <td>0.109431</td>\n",
       "      <td>0.092672</td>\n",
       "      <td>0.102778</td>\n",
       "      <td>0.108464</td>\n",
       "    </tr>\n",
       "    <tr>\n",
       "      <th>24996</th>\n",
       "      <td>15001</td>\n",
       "      <td>42003449000</td>\n",
       "      <td>ALIQUIPPA</td>\n",
       "      <td>PA</td>\n",
       "      <td>0.000290</td>\n",
       "      <td>0.000000</td>\n",
       "      <td>0.000000</td>\n",
       "      <td>0.000270</td>\n",
       "    </tr>\n",
       "    <tr>\n",
       "      <th>24997</th>\n",
       "      <td>15001</td>\n",
       "      <td>42007602900</td>\n",
       "      <td>ALIQUIPPA</td>\n",
       "      <td>PA</td>\n",
       "      <td>0.009269</td>\n",
       "      <td>0.000000</td>\n",
       "      <td>0.005556</td>\n",
       "      <td>0.008733</td>\n",
       "    </tr>\n",
       "    <tr>\n",
       "      <th>24998</th>\n",
       "      <td>15001</td>\n",
       "      <td>42007604500</td>\n",
       "      <td>ALIQUIPPA</td>\n",
       "      <td>PA</td>\n",
       "      <td>0.109663</td>\n",
       "      <td>0.036638</td>\n",
       "      <td>0.063889</td>\n",
       "      <td>0.105121</td>\n",
       "    </tr>\n",
       "  </tbody>\n",
       "</table>\n",
       "</div>"
      ],
      "text/plain": [
       "         ZIP        TRACT USPS_ZIP_PREF_CITY USPS_ZIP_PREF_STATE  RES_RATIO  \\\n",
       "24994  15001  42007605002          ALIQUIPPA                  PA   0.002607   \n",
       "24995  15001  42007604901          ALIQUIPPA                  PA   0.109431   \n",
       "24996  15001  42003449000          ALIQUIPPA                  PA   0.000290   \n",
       "24997  15001  42007602900          ALIQUIPPA                  PA   0.009269   \n",
       "24998  15001  42007604500          ALIQUIPPA                  PA   0.109663   \n",
       "\n",
       "       BUS_RATIO  OTH_RATIO  TOT_RATIO  \n",
       "24994   0.001078   0.000000   0.002480  \n",
       "24995   0.092672   0.102778   0.108464  \n",
       "24996   0.000000   0.000000   0.000270  \n",
       "24997   0.000000   0.005556   0.008733  \n",
       "24998   0.036638   0.063889   0.105121  "
      ]
     },
     "execution_count": 8,
     "metadata": {},
     "output_type": "execute_result"
    }
   ],
   "source": [
    "Filter_PA.head()"
   ]
  },
  {
   "cell_type": "code",
   "execution_count": 13,
   "id": "61f9f683-8239-4139-aaab-ae4d9a14004c",
   "metadata": {
    "tags": []
   },
   "outputs": [],
   "source": [
    "selected_zip_codes = [19124, 19134, 19140, 19133, 19120, 19141, 19134, 19125, 19122, 19124,\n",
    "                      19132, 19126, 19123, 19144, 19012, 19138, 19121]"
   ]
  },
  {
   "cell_type": "code",
   "execution_count": 15,
   "id": "d1f393d5-32c0-456c-81b7-35094ddbde1f",
   "metadata": {
    "tags": []
   },
   "outputs": [
    {
     "name": "stdout",
     "output_type": "stream",
     "text": [
      "         ZIP        TRACT USPS_ZIP_PREF_CITY USPS_ZIP_PREF_STATE  RES_RATIO  \\\n",
      "31913  19012  42091202201         CHELTENHAM                  PA   0.651793   \n",
      "31914  19012  42091202202         CHELTENHAM                  PA   0.348207   \n",
      "32529  19120  42101028901       PHILADELPHIA                  PA   0.052378   \n",
      "32530  19120  42101029100       PHILADELPHIA                  PA   0.039723   \n",
      "32531  19120  42101027402       PHILADELPHIA                  PA   0.095118   \n",
      "...      ...          ...                ...                 ...        ...   \n",
      "32902  19144  42101024200       PHILADELPHIA                  PA   0.131427   \n",
      "32903  19144  42101980100       PHILADELPHIA                  PA   0.000276   \n",
      "32904  19144  42101024600       PHILADELPHIA                  PA   0.055363   \n",
      "32905  19144  42101024400       PHILADELPHIA                  PA   0.052484   \n",
      "32906  19144  42101020600       PHILADELPHIA                  PA   0.044203   \n",
      "\n",
      "       BUS_RATIO  OTH_RATIO  TOT_RATIO  \n",
      "31913   0.748201   0.971831   0.665074  \n",
      "31914   0.251799   0.028169   0.334926  \n",
      "32529   0.059316   0.020548   0.052044  \n",
      "32530   0.072575   0.034247   0.041419  \n",
      "32531   0.062805   0.099315   0.093424  \n",
      "...          ...        ...        ...  \n",
      "32902   0.157246   0.155487   0.134759  \n",
      "32903   0.000725   0.000775   0.000341  \n",
      "32904   0.111594   0.065917   0.058938  \n",
      "32905   0.049275   0.084917   0.055186  \n",
      "32906   0.012319   0.009306   0.039633  \n",
      "\n",
      "[232 rows x 8 columns]\n"
     ]
    }
   ],
   "source": [
    "filtered_zip = data[data['ZIP'].isin(selected_zip_codes)]\n",
    "print(filtered_zip)"
   ]
  },
  {
   "cell_type": "code",
   "execution_count": 16,
   "id": "28d2c936-d2f5-4ea4-a78e-2e78bcb47f17",
   "metadata": {
    "tags": []
   },
   "outputs": [
    {
     "data": {
      "text/html": [
       "<div>\n",
       "<style scoped>\n",
       "    .dataframe tbody tr th:only-of-type {\n",
       "        vertical-align: middle;\n",
       "    }\n",
       "\n",
       "    .dataframe tbody tr th {\n",
       "        vertical-align: top;\n",
       "    }\n",
       "\n",
       "    .dataframe thead th {\n",
       "        text-align: right;\n",
       "    }\n",
       "</style>\n",
       "<table border=\"1\" class=\"dataframe\">\n",
       "  <thead>\n",
       "    <tr style=\"text-align: right;\">\n",
       "      <th></th>\n",
       "      <th>ZIP</th>\n",
       "      <th>TRACT</th>\n",
       "      <th>USPS_ZIP_PREF_CITY</th>\n",
       "      <th>USPS_ZIP_PREF_STATE</th>\n",
       "      <th>RES_RATIO</th>\n",
       "      <th>BUS_RATIO</th>\n",
       "      <th>OTH_RATIO</th>\n",
       "      <th>TOT_RATIO</th>\n",
       "    </tr>\n",
       "  </thead>\n",
       "  <tbody>\n",
       "    <tr>\n",
       "      <th>31913</th>\n",
       "      <td>19012</td>\n",
       "      <td>42091202201</td>\n",
       "      <td>CHELTENHAM</td>\n",
       "      <td>PA</td>\n",
       "      <td>0.651793</td>\n",
       "      <td>0.748201</td>\n",
       "      <td>0.971831</td>\n",
       "      <td>0.665074</td>\n",
       "    </tr>\n",
       "    <tr>\n",
       "      <th>31914</th>\n",
       "      <td>19012</td>\n",
       "      <td>42091202202</td>\n",
       "      <td>CHELTENHAM</td>\n",
       "      <td>PA</td>\n",
       "      <td>0.348207</td>\n",
       "      <td>0.251799</td>\n",
       "      <td>0.028169</td>\n",
       "      <td>0.334926</td>\n",
       "    </tr>\n",
       "    <tr>\n",
       "      <th>32529</th>\n",
       "      <td>19120</td>\n",
       "      <td>42101028901</td>\n",
       "      <td>PHILADELPHIA</td>\n",
       "      <td>PA</td>\n",
       "      <td>0.052378</td>\n",
       "      <td>0.059316</td>\n",
       "      <td>0.020548</td>\n",
       "      <td>0.052044</td>\n",
       "    </tr>\n",
       "    <tr>\n",
       "      <th>32530</th>\n",
       "      <td>19120</td>\n",
       "      <td>42101029100</td>\n",
       "      <td>PHILADELPHIA</td>\n",
       "      <td>PA</td>\n",
       "      <td>0.039723</td>\n",
       "      <td>0.072575</td>\n",
       "      <td>0.034247</td>\n",
       "      <td>0.041419</td>\n",
       "    </tr>\n",
       "    <tr>\n",
       "      <th>32531</th>\n",
       "      <td>19120</td>\n",
       "      <td>42101027402</td>\n",
       "      <td>PHILADELPHIA</td>\n",
       "      <td>PA</td>\n",
       "      <td>0.095118</td>\n",
       "      <td>0.062805</td>\n",
       "      <td>0.099315</td>\n",
       "      <td>0.093424</td>\n",
       "    </tr>\n",
       "    <tr>\n",
       "      <th>...</th>\n",
       "      <td>...</td>\n",
       "      <td>...</td>\n",
       "      <td>...</td>\n",
       "      <td>...</td>\n",
       "      <td>...</td>\n",
       "      <td>...</td>\n",
       "      <td>...</td>\n",
       "      <td>...</td>\n",
       "    </tr>\n",
       "    <tr>\n",
       "      <th>32902</th>\n",
       "      <td>19144</td>\n",
       "      <td>42101024200</td>\n",
       "      <td>PHILADELPHIA</td>\n",
       "      <td>PA</td>\n",
       "      <td>0.131427</td>\n",
       "      <td>0.157246</td>\n",
       "      <td>0.155487</td>\n",
       "      <td>0.134759</td>\n",
       "    </tr>\n",
       "    <tr>\n",
       "      <th>32903</th>\n",
       "      <td>19144</td>\n",
       "      <td>42101980100</td>\n",
       "      <td>PHILADELPHIA</td>\n",
       "      <td>PA</td>\n",
       "      <td>0.000276</td>\n",
       "      <td>0.000725</td>\n",
       "      <td>0.000775</td>\n",
       "      <td>0.000341</td>\n",
       "    </tr>\n",
       "    <tr>\n",
       "      <th>32904</th>\n",
       "      <td>19144</td>\n",
       "      <td>42101024600</td>\n",
       "      <td>PHILADELPHIA</td>\n",
       "      <td>PA</td>\n",
       "      <td>0.055363</td>\n",
       "      <td>0.111594</td>\n",
       "      <td>0.065917</td>\n",
       "      <td>0.058938</td>\n",
       "    </tr>\n",
       "    <tr>\n",
       "      <th>32905</th>\n",
       "      <td>19144</td>\n",
       "      <td>42101024400</td>\n",
       "      <td>PHILADELPHIA</td>\n",
       "      <td>PA</td>\n",
       "      <td>0.052484</td>\n",
       "      <td>0.049275</td>\n",
       "      <td>0.084917</td>\n",
       "      <td>0.055186</td>\n",
       "    </tr>\n",
       "    <tr>\n",
       "      <th>32906</th>\n",
       "      <td>19144</td>\n",
       "      <td>42101020600</td>\n",
       "      <td>PHILADELPHIA</td>\n",
       "      <td>PA</td>\n",
       "      <td>0.044203</td>\n",
       "      <td>0.012319</td>\n",
       "      <td>0.009306</td>\n",
       "      <td>0.039633</td>\n",
       "    </tr>\n",
       "  </tbody>\n",
       "</table>\n",
       "<p>232 rows × 8 columns</p>\n",
       "</div>"
      ],
      "text/plain": [
       "         ZIP        TRACT USPS_ZIP_PREF_CITY USPS_ZIP_PREF_STATE  RES_RATIO  \\\n",
       "31913  19012  42091202201         CHELTENHAM                  PA   0.651793   \n",
       "31914  19012  42091202202         CHELTENHAM                  PA   0.348207   \n",
       "32529  19120  42101028901       PHILADELPHIA                  PA   0.052378   \n",
       "32530  19120  42101029100       PHILADELPHIA                  PA   0.039723   \n",
       "32531  19120  42101027402       PHILADELPHIA                  PA   0.095118   \n",
       "...      ...          ...                ...                 ...        ...   \n",
       "32902  19144  42101024200       PHILADELPHIA                  PA   0.131427   \n",
       "32903  19144  42101980100       PHILADELPHIA                  PA   0.000276   \n",
       "32904  19144  42101024600       PHILADELPHIA                  PA   0.055363   \n",
       "32905  19144  42101024400       PHILADELPHIA                  PA   0.052484   \n",
       "32906  19144  42101020600       PHILADELPHIA                  PA   0.044203   \n",
       "\n",
       "       BUS_RATIO  OTH_RATIO  TOT_RATIO  \n",
       "31913   0.748201   0.971831   0.665074  \n",
       "31914   0.251799   0.028169   0.334926  \n",
       "32529   0.059316   0.020548   0.052044  \n",
       "32530   0.072575   0.034247   0.041419  \n",
       "32531   0.062805   0.099315   0.093424  \n",
       "...          ...        ...        ...  \n",
       "32902   0.157246   0.155487   0.134759  \n",
       "32903   0.000725   0.000775   0.000341  \n",
       "32904   0.111594   0.065917   0.058938  \n",
       "32905   0.049275   0.084917   0.055186  \n",
       "32906   0.012319   0.009306   0.039633  \n",
       "\n",
       "[232 rows x 8 columns]"
      ]
     },
     "metadata": {},
     "output_type": "display_data"
    }
   ],
   "source": [
    "display(filtered_zip)"
   ]
  },
  {
   "cell_type": "code",
   "execution_count": null,
   "id": "098f45ab-1880-486a-99ac-b3c775fca973",
   "metadata": {},
   "outputs": [],
   "source": []
  },
  {
   "cell_type": "code",
   "execution_count": null,
   "id": "153b93df-7467-479f-9409-86e3547d4afb",
   "metadata": {},
   "outputs": [],
   "source": []
  },
  {
   "cell_type": "code",
   "execution_count": null,
   "id": "f986420f-8aa6-4336-806e-333101ec2ca1",
   "metadata": {},
   "outputs": [],
   "source": []
  }
 ],
 "metadata": {
  "kernelspec": {
   "display_name": "Python 3 (ipykernel)",
   "language": "python",
   "name": "python3"
  },
  "language_info": {
   "codemirror_mode": {
    "name": "ipython",
    "version": 3
   },
   "file_extension": ".py",
   "mimetype": "text/x-python",
   "name": "python",
   "nbconvert_exporter": "python",
   "pygments_lexer": "ipython3",
   "version": "3.10.10"
  }
 },
 "nbformat": 4,
 "nbformat_minor": 5
}
